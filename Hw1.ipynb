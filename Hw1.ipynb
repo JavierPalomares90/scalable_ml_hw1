{
 "cells": [
  {
   "cell_type": "markdown",
   "metadata": {},
   "source": [
    "# Homework 1\n",
    "## Javier Palomares\n",
    "### September 22, 2019\n",
    "\n",
    "## Problem 1\n",
    "\n",
    "1. Watch: Vectors, what even are they? | Essence of linear algebra, Chapter 1 https://www.\n",
    "youtube.com/watch?v=fNk_zzaMoSs\n",
    "2. Chapter 2 https://www.youtube.com/watch?v=k7RM-ot2NWY\n",
    "In this video, in Minute 2:51, two vectors are written by their coordinates. Compute the\n",
    "coordinates of the vector that is the sum of twice the first (left one) plus the second (right\n",
    "one)."
   ]
  },
  {
   "cell_type": "markdown",
   "metadata": {},
   "source": [
    "import numpy as np\n",
    "first = np.array([-.8,1.3]);\n",
    "second = np.array([3.1,-2.9]);\n",
    "coordinates = 2*first + second\n",
    "print(np.asarray(coordinates))"
   ]
  },
  {
   "cell_type": "markdown",
   "metadata": {},
   "source": [
    "Are the vectors $[1,1]$, $[1,0]$, $[0,1]$ linearly dependent?\n",
    "Write the third as a linear combination of the first two."
   ]
  },
  {
   "cell_type": "markdown",
   "metadata": {},
   "source": [
    "The vector are not linearly independent. $[1,1]$ can be written as $[1,0] + [0,1]$ so it's a linear combination of the other two.\n",
    "The third can be written as <br> $[0,1] = [1,1] - [1,0]$"
   ]
  },
  {
   "cell_type": "markdown",
   "metadata": {},
   "source": [
    "3. Chapter 3 https://www.youtube.com/watch?v=kYB8IZa5AuE\n",
    "At minute 6:36, a Matrix and a vector is given. Write down how this matrix transforms this\n",
    "vector. Based on what you learned, write a matrix that rotates the 2D space by 90 degrees\n",
    "clockwise."
   ]
  },
  {
   "cell_type": "code",
   "execution_count": 26,
   "metadata": {},
   "outputs": [
    {
     "data": {
      "text/plain": [
       "array([29, -3])"
      ]
     },
     "execution_count": 26,
     "metadata": {},
     "output_type": "execute_result"
    }
   ],
   "source": [
    "A = np.array([[3, 2],\n",
    "              [-2, 1]])\n",
    "v = np.array([5,7])\n",
    "np.matmul(A,v)"
   ]
  },
  {
   "cell_type": "markdown",
   "metadata": {},
   "source": [
    "The matrix transforms the vector $[5,7]$ to $5 * [3,-2] + 7*[2,1]$ The matrix transforms vectors to linear combinations of $[3,-2]$ and $[2,1]$"
   ]
  },
  {
   "cell_type": "markdown",
   "metadata": {},
   "source": [
    "The matrix $\n",
    "\\left(\\begin{array}{cc} \n",
    "0 & 1\\\\\n",
    "-1 & 0\n",
    "\\end{array}\\right)$ rotates the 2D space by 90 degrees\n",
    "clockwise."
   ]
  },
  {
   "cell_type": "markdown",
   "metadata": {},
   "source": [
    "4. Chapter 4 https://www.youtube.com/watch?v=XkY2DOUCWMU\n",
    "At 3.34 a composition matrix is shown. Apply this Composition linear transformation to the\n",
    "vector [1; 2]T and write the transformed vector."
   ]
  },
  {
   "cell_type": "code",
   "execution_count": 37,
   "metadata": {},
   "outputs": [
    {
     "data": {
      "text/plain": [
       "array([-1,  1])"
      ]
     },
     "execution_count": 37,
     "metadata": {},
     "output_type": "execute_result"
    }
   ],
   "source": [
    "composition_matrix= np.array([[1, -1],\n",
    "              [1, 0]]);\n",
    "v = np.array([1,2]);\n",
    "np.matmul(composition_matrix,v)"
   ]
  },
  {
   "cell_type": "markdown",
   "metadata": {},
   "source": [
    "5. The determinant | Essence of linear algebra, chapter 6 https://www.youtube.com/watch?v=Ip3X9LOh2dk\n",
    "In 9.40 there is a quiz question: Write your answer one sentence."
   ]
  },
  {
   "cell_type": "markdown",
   "metadata": {},
   "source": [
    "TODO: Finish this"
   ]
  },
  {
   "cell_type": "markdown",
   "metadata": {},
   "source": [
    "6. Dot products and duality | Essence of linear algebra, chapter 9 https://www.youtube.com/watch?v=LyGKycYT2v0"
   ]
  },
  {
   "cell_type": "markdown",
   "metadata": {},
   "source": [
    "Project the vector [1; 2; 3]T on the vector [1,1,1]. Write the projected vector.\n"
   ]
  },
  {
   "cell_type": "markdown",
   "metadata": {},
   "source": [
    "TODO: Finish"
   ]
  },
  {
   "cell_type": "markdown",
   "metadata": {},
   "source": [
    "Project the vector [1; 2; 3]T on the span of the vectors [1; 0; 0]T and [1; 0; 0]T . Write the\n",
    "projected vector.\n",
    "\n",
    "TODO: There is an error here"
   ]
  },
  {
   "cell_type": "markdown",
   "metadata": {},
   "source": [
    "## Problem 2: Linear Algebra in Python. \n",
    "You can use all Python functions to solve this problem."
   ]
  },
  {
   "cell_type": "markdown",
   "metadata": {},
   "source": [
    "1. Consider the linear subspace $S = span(v1, v2, v3, v4)$ where $v1 = [1; 2; 3; 4]; v2 = [0; 1; 0; 1]; v3 =\n",
    "[1; 4; 3; 6]; v4 = [2; 11; 6; 15]$. "
   ]
  },
  {
   "cell_type": "code",
   "execution_count": 42,
   "metadata": {},
   "outputs": [],
   "source": [
    "v1 = np.array([1,2,3,4])\n",
    "v2 = np.array([0,1,0,1])\n",
    "v3 = np.array([1,4,3,6])\n",
    "v4 = np.array([2,11,6,15])"
   ]
  },
  {
   "cell_type": "markdown",
   "metadata": {},
   "source": [
    "Create a vector inside S different from v1; v2; v3; v4. "
   ]
  },
  {
   "cell_type": "code",
   "execution_count": 45,
   "metadata": {},
   "outputs": [
    {
     "data": {
      "text/plain": [
       "array([ 5, 19, 15, 29])"
      ]
     },
     "execution_count": 45,
     "metadata": {},
     "output_type": "execute_result"
    }
   ],
   "source": [
    "v1+v2+4*v3"
   ]
  },
  {
   "cell_type": "markdown",
   "metadata": {},
   "source": [
    "Create a vector not in S."
   ]
  },
  {
   "cell_type": "markdown",
   "metadata": {},
   "source": [
    "TODO: Finish"
   ]
  },
  {
   "cell_type": "markdown",
   "metadata": {},
   "source": [
    "How would you check if a new vector is in S?"
   ]
  },
  {
   "cell_type": "markdown",
   "metadata": {},
   "source": [
    "A vector $v$ is in S if there a consistent solution $a,b,c,d$ to $v = a * v1 + b * v2 + c * v3 + d * v4$"
   ]
  },
  {
   "cell_type": "markdown",
   "metadata": {},
   "source": [
    "2. Find the dimension of the subspace S."
   ]
  },
  {
   "cell_type": "code",
   "execution_count": null,
   "metadata": {},
   "outputs": [],
   "source": []
  }
 ],
 "metadata": {
  "kernelspec": {
   "display_name": "Python 3",
   "language": "python",
   "name": "python3"
  },
  "language_info": {
   "codemirror_mode": {
    "name": "ipython",
    "version": 3
   },
   "file_extension": ".py",
   "mimetype": "text/x-python",
   "name": "python",
   "nbconvert_exporter": "python",
   "pygments_lexer": "ipython3",
   "version": "3.7.4"
  }
 },
 "nbformat": 4,
 "nbformat_minor": 2
}
