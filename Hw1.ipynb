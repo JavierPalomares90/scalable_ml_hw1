{
 "cells": [
  {
   "cell_type": "markdown",
   "metadata": {},
   "source": [
    "# Homework 1\n",
    "## Javier Palomares\n",
    "### September 22, 2019\n",
    "\n",
    "## Problem 1\n",
    "\n",
    "1. Watch: Vectors, what even are they? | Essence of linear algebra, Chapter 1 https://www.youtube.com/watch?v=fNk_zzaMoSs\n",
    "2. Chapter 2 https://www.youtube.com/watch?v=k7RM-ot2NWY\n",
    "In this video, in Minute 2:51, two vectors are written by their coordinates. Compute the\n",
    "coordinates of the vector that is the sum of twice the first (left one) plus the second (right\n",
    "one)."
   ]
  },
  {
   "cell_type": "code",
   "execution_count": 92,
   "metadata": {},
   "outputs": [
    {
     "name": "stdout",
     "output_type": "stream",
     "text": [
      "[ 1.5 -0.3]\n"
     ]
    }
   ],
   "source": [
    "import numpy as np\n",
    "first = np.array([-.8,1.3]);\n",
    "second = np.array([3.1,-2.9]);\n",
    "coordinates = 2*first + second\n",
    "print(np.asarray(coordinates))"
   ]
  },
  {
   "cell_type": "markdown",
   "metadata": {},
   "source": [
    "Are the vectors $[1,1]$, $[1,0]$, $[0,1]$ linearly dependent?\n",
    "Write the third as a linear combination of the first two."
   ]
  },
  {
   "cell_type": "markdown",
   "metadata": {},
   "source": [
    "The vector are not linearly independent. $[1,1]$ can be written as $[1,0] + [0,1]$ so it's a linear combination of the other two.\n",
    "The third can be written as <br> $[0,1] = [1,1] - [1,0]$"
   ]
  },
  {
   "cell_type": "markdown",
   "metadata": {},
   "source": [
    "3. Chapter 3 https://www.youtube.com/watch?v=kYB8IZa5AuE\n",
    "At minute 6:36, a Matrix and a vector is given. Write down how this matrix transforms this\n",
    "vector. Based on what you learned, write a matrix that rotates the 2D space by 90 degrees\n",
    "clockwise."
   ]
  },
  {
   "cell_type": "code",
   "execution_count": 26,
   "metadata": {},
   "outputs": [
    {
     "data": {
      "text/plain": [
       "array([29, -3])"
      ]
     },
     "execution_count": 26,
     "metadata": {},
     "output_type": "execute_result"
    }
   ],
   "source": [
    "A = np.array([[3, 2],\n",
    "              [-2, 1]])\n",
    "v = np.array([5,7])\n",
    "np.matmul(A,v)"
   ]
  },
  {
   "cell_type": "markdown",
   "metadata": {},
   "source": [
    "The matrix transforms the vector $[5,7]$ to $5 * [3,-2] + 7*[2,1]$ The matrix transforms vectors to linear combinations of $[3,-2]$ and $[2,1]$"
   ]
  },
  {
   "cell_type": "markdown",
   "metadata": {},
   "source": [
    "The matrix $\n",
    "\\left(\\begin{array}{cc} \n",
    "0 & 1\\\\\n",
    "-1 & 0\n",
    "\\end{array}\\right)$ rotates the 2D space by 90 degrees\n",
    "clockwise."
   ]
  },
  {
   "cell_type": "markdown",
   "metadata": {},
   "source": [
    "4. Chapter 4 https://www.youtube.com/watch?v=XkY2DOUCWMU\n",
    "At 3.34 a composition matrix is shown. Apply this Composition linear transformation to the\n",
    "vector [1; 2]T and write the transformed vector."
   ]
  },
  {
   "cell_type": "code",
   "execution_count": 37,
   "metadata": {},
   "outputs": [
    {
     "data": {
      "text/plain": [
       "array([-1,  1])"
      ]
     },
     "execution_count": 37,
     "metadata": {},
     "output_type": "execute_result"
    }
   ],
   "source": [
    "composition_matrix= np.array([[1, -1],\n",
    "              [1, 0]]);\n",
    "v = np.array([1,2]);\n",
    "np.matmul(composition_matrix,v)"
   ]
  },
  {
   "cell_type": "markdown",
   "metadata": {},
   "source": [
    "5. The determinant | Essence of linear algebra, chapter 6 https://www.youtube.com/watch?v=Ip3X9LOh2dk\n",
    "In 9.40 there is a quiz question: Write your answer in one sentence."
   ]
  },
  {
   "cell_type": "markdown",
   "metadata": {},
   "source": [
    "TODO: Finish this"
   ]
  },
  {
   "cell_type": "markdown",
   "metadata": {},
   "source": [
    "6. Dot products and duality | Essence of linear algebra, chapter 9 https://www.youtube.com/watch?v=LyGKycYT2v0"
   ]
  },
  {
   "cell_type": "markdown",
   "metadata": {},
   "source": [
    "Project the vector $[1, 2, 3]^T$ on the vector $[1,1,1]$. Write the projected vector."
   ]
  },
  {
   "cell_type": "code",
   "execution_count": 81,
   "metadata": {},
   "outputs": [
    {
     "name": "stdout",
     "output_type": "stream",
     "text": [
      "[3.46410162 3.46410162 3.46410162]\n"
     ]
    }
   ],
   "source": [
    "a = np.array([1,2,3])\n",
    "b = np.array([1,1,1])\n",
    "proj_a_b = np.dot(a,b) / np.linalg.norm(b) * b\n",
    "print(proj_a_b)"
   ]
  },
  {
   "cell_type": "markdown",
   "metadata": {},
   "source": [
    "Project the vector $[1, 2, 3]^T$ on the span of the vectors $[1, 0, 0]^T$ and $[1, 0, 0]^T$ . Write the\n",
    "projected vector.\n",
    "\n",
    "TODO: There is an error here"
   ]
  },
  {
   "cell_type": "markdown",
   "metadata": {},
   "source": [
    "## Problem 2: Linear Algebra in Python. \n",
    "You can use all Python functions to solve this problem."
   ]
  },
  {
   "cell_type": "markdown",
   "metadata": {},
   "source": [
    "1. Consider the linear subspace $S = span(v1, v2, v3, v4)$ where $v1 = [1; 2; 3; 4]; v2 = [0; 1; 0; 1]; v3 =\n",
    "[1; 4; 3; 6]; v4 = [2; 11; 6; 15]$. "
   ]
  },
  {
   "cell_type": "code",
   "execution_count": 42,
   "metadata": {},
   "outputs": [],
   "source": [
    "v1 = np.array([1,2,3,4])\n",
    "v2 = np.array([0,1,0,1])\n",
    "v3 = np.array([1,4,3,6])\n",
    "v4 = np.array([2,11,6,15])"
   ]
  },
  {
   "cell_type": "markdown",
   "metadata": {},
   "source": [
    "Create a vector inside S different from v1; v2; v3; v4. "
   ]
  },
  {
   "cell_type": "code",
   "execution_count": 45,
   "metadata": {},
   "outputs": [
    {
     "data": {
      "text/plain": [
       "array([ 5, 19, 15, 29])"
      ]
     },
     "execution_count": 45,
     "metadata": {},
     "output_type": "execute_result"
    }
   ],
   "source": [
    "v1+v2+4*v3"
   ]
  },
  {
   "cell_type": "markdown",
   "metadata": {},
   "source": [
    "Create a vector not in S."
   ]
  },
  {
   "cell_type": "markdown",
   "metadata": {},
   "source": [
    "$[0,0,0,1]$ is a vector not in $S$. It cannot be writtend as a linear combination of $v1,v2,v3,$ and $v4$"
   ]
  },
  {
   "cell_type": "markdown",
   "metadata": {},
   "source": [
    "How would you check if a new vector is in S?"
   ]
  },
  {
   "cell_type": "markdown",
   "metadata": {},
   "source": [
    "A vector $v$ is in S if there a consistent solution $a,b,c,d$ to $v = a * v1 + b * v2 + c * v3 + d * v4$"
   ]
  },
  {
   "cell_type": "markdown",
   "metadata": {},
   "source": [
    "2. Find the dimension of the subspace S."
   ]
  },
  {
   "cell_type": "code",
   "execution_count": 53,
   "metadata": {},
   "outputs": [],
   "source": [
    "M = np.matrix([v1,v2,v3,v4]).transpose()"
   ]
  },
  {
   "cell_type": "code",
   "execution_count": 57,
   "metadata": {},
   "outputs": [
    {
     "data": {
      "text/plain": [
       "(0, 1)"
      ]
     },
     "execution_count": 57,
     "metadata": {},
     "output_type": "execute_result"
    }
   ],
   "source": [
    "import sympy\n",
    "_, inds = sympy.Matrix(M).T.rref() \n",
    "inds"
   ]
  },
  {
   "cell_type": "markdown",
   "metadata": {},
   "source": [
    "The first 2 vectors are linearly independent. The other 2 are linear combinations of the first 2. So the dimension of S is 2."
   ]
  },
  {
   "cell_type": "markdown",
   "metadata": {},
   "source": [
    "3. Find an orthonormal basis for the subspace S."
   ]
  },
  {
   "cell_type": "markdown",
   "metadata": {},
   "source": [
    "Since the first 2 vectors are independent, they form the basis for $S$. To find an orthonormal basis, we need to decompose $v_1$ and $v_2$ into orthonormal vectors $n_1$ and $n_2$"
   ]
  },
  {
   "cell_type": "markdown",
   "metadata": {},
   "source": [
    "I'll let $n_1=\\frac{v_2}{|v2|}$ then we need $n_2=a v_1+b v_2$ so that $n_1^T n_2 =0$ "
   ]
  },
  {
   "cell_type": "code",
   "execution_count": 61,
   "metadata": {},
   "outputs": [],
   "source": [
    "n1 = v2 /np.linalg.norm(v2)"
   ]
  },
  {
   "cell_type": "markdown",
   "metadata": {},
   "source": [
    "Since we need $n_1^T n_2 =0$ we end up with needing a solution to $3a +b = 0$.\n",
    "I'll use $a = -1, b = 3$ then normalize $n_2$"
   ]
  },
  {
   "cell_type": "code",
   "execution_count": 70,
   "metadata": {},
   "outputs": [],
   "source": [
    "a = -1\n",
    "b = 3\n",
    "n2 = a *v1 + b * v2\n",
    "n2 = n2/ np.linalg.norm(n2)"
   ]
  },
  {
   "cell_type": "markdown",
   "metadata": {},
   "source": [
    "An orthonal basis for S is given by span(n1,n2)\n"
   ]
  },
  {
   "cell_type": "code",
   "execution_count": 78,
   "metadata": {},
   "outputs": [
    {
     "name": "stdout",
     "output_type": "stream",
     "text": [
      "[0.         0.70710678 0.         0.70710678]\n",
      "[-0.28867513  0.28867513 -0.8660254  -0.28867513]\n"
     ]
    }
   ],
   "source": [
    "print(n1)\n",
    "print(n2)"
   ]
  },
  {
   "cell_type": "markdown",
   "metadata": {},
   "source": [
    "4. Solve the optimization problem $min_{x \\epsilon S} ||x - z^*||_2$ where $z^* = [1, 0, 0, 0]$."
   ]
  },
  {
   "cell_type": "markdown",
   "metadata": {},
   "source": [
    "Since $x$ is in $S$, we can express x as $x = a n_1 + b n_2$\n",
    "Then the optimization is to minimize\n",
    "\n",
    "$$f = ||a n_1 + b n_2 - z^*||_2$$\n",
    "\n",
    "$$f=|| a \n",
    "\\left(\\begin{array}{c} \n",
    "0 \\\\\n",
    "1 \\\\\n",
    "0 \\\\\n",
    "1\n",
    "\\end{array}\\right)\n",
    "+ b \n",
    "\\left(\\begin{array}{c} \n",
    "-1 \\\\\n",
    "1 \\\\\n",
    "-3 \\\\\n",
    "-1\n",
    "\\end{array}\\right)\n",
    "-\n",
    "\\left(\\begin{array}{c} \n",
    "1 \\\\\n",
    "0 \\\\\n",
    "0 \\\\\n",
    "0\n",
    "\\end{array}\\right)\n",
    " || _2 $$\n",
    " \n",
    " \n",
    " $$f=|| \n",
    "\\left(\\begin{array}{c} \n",
    "-b-1 \\\\\n",
    "a+b \\\\\n",
    "-3b \\\\\n",
    "a-b\n",
    "\\end{array}\\right)\n",
    " || _2 $$\n",
    "\n",
    "We can optimize $F=f^2$ to also find the optimum of $f$.\n",
    "Taking the gradient of F, we find \n",
    "\n",
    " $$\\nabla F=\n",
    "\\left(\\begin{array}{c} \n",
    "4a \\\\\n",
    "22b +2 \n",
    "\\end{array}\\right)\n",
    " $$\n",
    " Setting equal to zero, we find $a = 0, b = \\frac{-1}{11}$\n",
    " So the optimal solution is at <br> $x = \\frac{-1}{11}\n",
    "\\left(\\begin{array}{c} \n",
    "-1 \\\\\n",
    "1 \\\\\n",
    "-3 \\\\\n",
    "-1\n",
    "\\end{array}\\right)$ "
   ]
  },
  {
   "cell_type": "markdown",
   "metadata": {},
   "source": [
    "5. (Tricky) Is there a relation of this optimization problem with linear regression? Discuss."
   ]
  },
  {
   "cell_type": "markdown",
   "metadata": {},
   "source": [
    "TODO: Finish"
   ]
  },
  {
   "cell_type": "markdown",
   "metadata": {},
   "source": [
    "## Problem 3: Starting supervised learning in Kaggle."
   ]
  },
  {
   "cell_type": "markdown",
   "metadata": {},
   "source": [
    "1. Lets start with our first Kaggle submission in a playground regression competition. Make\n",
    "an account to Kaggle and find https://www.kaggle.com/c/house-prices-advanced-regression-techniques/"
   ]
  },
  {
   "cell_type": "markdown",
   "metadata": {},
   "source": [
    "2. Follow the data preprocessing steps from\n",
    "https://www.kaggle.com/apapiu/house-prices-advanced-regression-techniques/regularized-linear-models.\n",
    "Then, split the data into a train and test set and fit a linear regression model (without any\n",
    "regularization) to make predictions. Report the performance (RMSE) of this model on the\n",
    "train set, the test set and on the Kaggle private leader board.\n",
    "(Hint: remember to exponentiate np.expm1(ypred) your predictions)."
   ]
  },
  {
   "cell_type": "code",
   "execution_count": 1,
   "metadata": {},
   "outputs": [],
   "source": [
    "import pandas as pd\n",
    "import numpy as np\n",
    "import seaborn as sns\n",
    "import matplotlib\n",
    "\n",
    "import matplotlib.pyplot as plt\n",
    "from scipy.stats import skew\n",
    "from scipy.stats.stats import pearsonr\n",
    "\n",
    "\n",
    "%config InlineBackend.figure_format = 'retina' #set 'png' here when working on notebook\n",
    "%matplotlib inline"
   ]
  },
  {
   "cell_type": "code",
   "execution_count": 2,
   "metadata": {},
   "outputs": [],
   "source": [
    "train = pd.read_csv(\"./input/train.csv\")\n",
    "test = pd.read_csv(\"./input/test.csv\")"
   ]
  },
  {
   "cell_type": "code",
   "execution_count": 11,
   "metadata": {},
   "outputs": [
    {
     "data": {
      "text/html": [
       "<div>\n",
       "<style scoped>\n",
       "    .dataframe tbody tr th:only-of-type {\n",
       "        vertical-align: middle;\n",
       "    }\n",
       "\n",
       "    .dataframe tbody tr th {\n",
       "        vertical-align: top;\n",
       "    }\n",
       "\n",
       "    .dataframe thead th {\n",
       "        text-align: right;\n",
       "    }\n",
       "</style>\n",
       "<table border=\"1\" class=\"dataframe\">\n",
       "  <thead>\n",
       "    <tr style=\"text-align: right;\">\n",
       "      <th></th>\n",
       "      <th>Id</th>\n",
       "      <th>MSSubClass</th>\n",
       "      <th>MSZoning</th>\n",
       "      <th>LotFrontage</th>\n",
       "      <th>LotArea</th>\n",
       "      <th>Street</th>\n",
       "      <th>Alley</th>\n",
       "      <th>LotShape</th>\n",
       "      <th>LandContour</th>\n",
       "      <th>Utilities</th>\n",
       "      <th>...</th>\n",
       "      <th>PoolArea</th>\n",
       "      <th>PoolQC</th>\n",
       "      <th>Fence</th>\n",
       "      <th>MiscFeature</th>\n",
       "      <th>MiscVal</th>\n",
       "      <th>MoSold</th>\n",
       "      <th>YrSold</th>\n",
       "      <th>SaleType</th>\n",
       "      <th>SaleCondition</th>\n",
       "      <th>SalePrice</th>\n",
       "    </tr>\n",
       "  </thead>\n",
       "  <tbody>\n",
       "    <tr>\n",
       "      <td>0</td>\n",
       "      <td>1</td>\n",
       "      <td>60</td>\n",
       "      <td>RL</td>\n",
       "      <td>65.0</td>\n",
       "      <td>8450</td>\n",
       "      <td>Pave</td>\n",
       "      <td>NaN</td>\n",
       "      <td>Reg</td>\n",
       "      <td>Lvl</td>\n",
       "      <td>AllPub</td>\n",
       "      <td>...</td>\n",
       "      <td>0</td>\n",
       "      <td>NaN</td>\n",
       "      <td>NaN</td>\n",
       "      <td>NaN</td>\n",
       "      <td>0</td>\n",
       "      <td>2</td>\n",
       "      <td>2008</td>\n",
       "      <td>WD</td>\n",
       "      <td>Normal</td>\n",
       "      <td>208500</td>\n",
       "    </tr>\n",
       "    <tr>\n",
       "      <td>1</td>\n",
       "      <td>2</td>\n",
       "      <td>20</td>\n",
       "      <td>RL</td>\n",
       "      <td>80.0</td>\n",
       "      <td>9600</td>\n",
       "      <td>Pave</td>\n",
       "      <td>NaN</td>\n",
       "      <td>Reg</td>\n",
       "      <td>Lvl</td>\n",
       "      <td>AllPub</td>\n",
       "      <td>...</td>\n",
       "      <td>0</td>\n",
       "      <td>NaN</td>\n",
       "      <td>NaN</td>\n",
       "      <td>NaN</td>\n",
       "      <td>0</td>\n",
       "      <td>5</td>\n",
       "      <td>2007</td>\n",
       "      <td>WD</td>\n",
       "      <td>Normal</td>\n",
       "      <td>181500</td>\n",
       "    </tr>\n",
       "    <tr>\n",
       "      <td>2</td>\n",
       "      <td>3</td>\n",
       "      <td>60</td>\n",
       "      <td>RL</td>\n",
       "      <td>68.0</td>\n",
       "      <td>11250</td>\n",
       "      <td>Pave</td>\n",
       "      <td>NaN</td>\n",
       "      <td>IR1</td>\n",
       "      <td>Lvl</td>\n",
       "      <td>AllPub</td>\n",
       "      <td>...</td>\n",
       "      <td>0</td>\n",
       "      <td>NaN</td>\n",
       "      <td>NaN</td>\n",
       "      <td>NaN</td>\n",
       "      <td>0</td>\n",
       "      <td>9</td>\n",
       "      <td>2008</td>\n",
       "      <td>WD</td>\n",
       "      <td>Normal</td>\n",
       "      <td>223500</td>\n",
       "    </tr>\n",
       "    <tr>\n",
       "      <td>3</td>\n",
       "      <td>4</td>\n",
       "      <td>70</td>\n",
       "      <td>RL</td>\n",
       "      <td>60.0</td>\n",
       "      <td>9550</td>\n",
       "      <td>Pave</td>\n",
       "      <td>NaN</td>\n",
       "      <td>IR1</td>\n",
       "      <td>Lvl</td>\n",
       "      <td>AllPub</td>\n",
       "      <td>...</td>\n",
       "      <td>0</td>\n",
       "      <td>NaN</td>\n",
       "      <td>NaN</td>\n",
       "      <td>NaN</td>\n",
       "      <td>0</td>\n",
       "      <td>2</td>\n",
       "      <td>2006</td>\n",
       "      <td>WD</td>\n",
       "      <td>Abnorml</td>\n",
       "      <td>140000</td>\n",
       "    </tr>\n",
       "    <tr>\n",
       "      <td>4</td>\n",
       "      <td>5</td>\n",
       "      <td>60</td>\n",
       "      <td>RL</td>\n",
       "      <td>84.0</td>\n",
       "      <td>14260</td>\n",
       "      <td>Pave</td>\n",
       "      <td>NaN</td>\n",
       "      <td>IR1</td>\n",
       "      <td>Lvl</td>\n",
       "      <td>AllPub</td>\n",
       "      <td>...</td>\n",
       "      <td>0</td>\n",
       "      <td>NaN</td>\n",
       "      <td>NaN</td>\n",
       "      <td>NaN</td>\n",
       "      <td>0</td>\n",
       "      <td>12</td>\n",
       "      <td>2008</td>\n",
       "      <td>WD</td>\n",
       "      <td>Normal</td>\n",
       "      <td>250000</td>\n",
       "    </tr>\n",
       "  </tbody>\n",
       "</table>\n",
       "<p>5 rows × 81 columns</p>\n",
       "</div>"
      ],
      "text/plain": [
       "   Id  MSSubClass MSZoning  LotFrontage  LotArea Street Alley LotShape  \\\n",
       "0   1          60       RL         65.0     8450   Pave   NaN      Reg   \n",
       "1   2          20       RL         80.0     9600   Pave   NaN      Reg   \n",
       "2   3          60       RL         68.0    11250   Pave   NaN      IR1   \n",
       "3   4          70       RL         60.0     9550   Pave   NaN      IR1   \n",
       "4   5          60       RL         84.0    14260   Pave   NaN      IR1   \n",
       "\n",
       "  LandContour Utilities  ... PoolArea PoolQC Fence MiscFeature MiscVal MoSold  \\\n",
       "0         Lvl    AllPub  ...        0    NaN   NaN         NaN       0      2   \n",
       "1         Lvl    AllPub  ...        0    NaN   NaN         NaN       0      5   \n",
       "2         Lvl    AllPub  ...        0    NaN   NaN         NaN       0      9   \n",
       "3         Lvl    AllPub  ...        0    NaN   NaN         NaN       0      2   \n",
       "4         Lvl    AllPub  ...        0    NaN   NaN         NaN       0     12   \n",
       "\n",
       "  YrSold  SaleType  SaleCondition  SalePrice  \n",
       "0   2008        WD         Normal     208500  \n",
       "1   2007        WD         Normal     181500  \n",
       "2   2008        WD         Normal     223500  \n",
       "3   2006        WD        Abnorml     140000  \n",
       "4   2008        WD         Normal     250000  \n",
       "\n",
       "[5 rows x 81 columns]"
      ]
     },
     "execution_count": 11,
     "metadata": {},
     "output_type": "execute_result"
    }
   ],
   "source": [
    "train.head()"
   ]
  },
  {
   "cell_type": "code",
   "execution_count": 12,
   "metadata": {},
   "outputs": [],
   "source": [
    "all_data = pd.concat((train.loc[:,'MSSubClass':'SaleCondition'],\n",
    "                      test.loc[:,'MSSubClass':'SaleCondition']))"
   ]
  },
  {
   "cell_type": "markdown",
   "metadata": {},
   "source": [
    "Data preprocessing:\n",
    "We're not going to do anything fancy here:\n",
    "\n",
    "* First I'll transform the skewed numeric features by taking log(feature + 1) - this will make the features more normal\n",
    "* Create Dummy variables for the categorical features\n",
    "* Replace the numeric missing values (NaN's) with the mean of their respective columns"
   ]
  },
  {
   "cell_type": "code",
   "execution_count": 13,
   "metadata": {},
   "outputs": [
    {
     "data": {
      "text/plain": [
       "array([[<matplotlib.axes._subplots.AxesSubplot object at 0x7f3cbc9b1dd8>,\n",
       "        <matplotlib.axes._subplots.AxesSubplot object at 0x7f3cbc20dc50>]],\n",
       "      dtype=object)"
      ]
     },
     "execution_count": 13,
     "metadata": {},
     "output_type": "execute_result"
    },
    {
     "data": {
      "image/png": "[encoded data removed]",
      "text/plain": [
       "<Figure size 864x432 with 2 Axes>"
      ]
     },
     "metadata": {
      "image/png": {
       "height": 372,
       "width": 710
      },
      "needs_background": "light"
     },
     "output_type": "display_data"
    }
   ],
   "source": [
    "matplotlib.rcParams['figure.figsize'] = (12.0, 6.0)\n",
    "prices = pd.DataFrame({\"price\":train[\"SalePrice\"], \"log(price + 1)\":np.log1p(train[\"SalePrice\"])})\n",
    "prices.hist()"
   ]
  },
  {
   "cell_type": "code",
   "execution_count": 14,
   "metadata": {},
   "outputs": [],
   "source": [
    "#log transform the target:\n",
    "train[\"SalePrice\"] = np.log1p(train[\"SalePrice\"])\n",
    "\n",
    "#log transform skewed numeric features:\n",
    "numeric_feats = all_data.dtypes[all_data.dtypes != \"object\"].index\n",
    "\n",
    "skewed_feats = train[numeric_feats].apply(lambda x: skew(x.dropna())) #compute skewness\n",
    "skewed_feats = skewed_feats[skewed_feats > 0.75]\n",
    "skewed_feats = skewed_feats.index\n",
    "\n",
    "all_data[skewed_feats] = np.log1p(all_data[skewed_feats])"
   ]
  },
  {
   "cell_type": "code",
   "execution_count": 15,
   "metadata": {},
   "outputs": [],
   "source": [
    "#one hot encode categorical columns\n",
    "all_data = pd.get_dummies(all_data)"
   ]
  },
  {
   "cell_type": "code",
   "execution_count": 16,
   "metadata": {},
   "outputs": [],
   "source": [
    "#filling NA's with the mean of the column:\n",
    "all_data = all_data.fillna(all_data.mean())"
   ]
  },
  {
   "cell_type": "code",
   "execution_count": 17,
   "metadata": {},
   "outputs": [],
   "source": [
    "#creating matrices for sklearn:\n",
    "X_train = all_data[:train.shape[0]]\n",
    "X_test = all_data[train.shape[0]:]\n",
    "y_train = train.SalePrice"
   ]
  },
  {
   "cell_type": "markdown",
   "metadata": {},
   "source": [
    "### Models\n",
    "First I'll train a linear regression without any regularization"
   ]
  },
  {
   "cell_type": "code",
   "execution_count": 32,
   "metadata": {},
   "outputs": [],
   "source": [
    "from sklearn.linear_model import Ridge, RidgeCV, ElasticNet, LassoCV, LassoLarsCV,LinearRegression\n",
    "from sklearn.model_selection import cross_val_score\n",
    "\n",
    "# function to compute the root mean squared error of the cross validation\n",
    "def rmse_cv(model,X_train,y):\n",
    "    rmse= np.sqrt(-cross_val_score(model, X_train, y, scoring=\"neg_mean_squared_error\", cv = 5))\n",
    "    return(rmse)\n",
    "\n",
    "def rms(predicted,target):\n",
    "    return np.sqrt(np.mean((predicted-target)**2))"
   ]
  },
  {
   "cell_type": "code",
   "execution_count": 19,
   "metadata": {},
   "outputs": [
    {
     "data": {
      "text/plain": [
       "LinearRegression(copy_X=True, fit_intercept=True, n_jobs=None, normalize=False)"
      ]
     },
     "execution_count": 19,
     "metadata": {},
     "output_type": "execute_result"
    }
   ],
   "source": [
    "linear_model = LinearRegression()\n",
    "# Train the model using the training sets\n",
    "linear_model.fit(X_train, y_train)\n"
   ]
  },
  {
   "cell_type": "code",
   "execution_count": 17,
   "metadata": {},
   "outputs": [
    {
     "name": "stdout",
     "output_type": "stream",
     "text": [
      "A Linear Regression produced an rmse of $17717.98085215138 on the train set\n"
     ]
    }
   ],
   "source": [
    "# Make predictions using the training set\n",
    "y_pred = linear_model.predict(X_train)\n",
    "# we took a log of the sale price in the pre processing, so we need to exponentiate y_pred and y to get the true sale prices\n",
    "y_pred_exp = np.expm1(y_pred)\n",
    "y_exp = np.expm1(y_train)\n",
    "rmse_linear = rms(y_pred_exp,y_exp)\n",
    "print(\"A Linear Regression produced an rmse of ${} on the train set\".format(rmse_linear))"
   ]
  },
  {
   "cell_type": "code",
   "execution_count": 18,
   "metadata": {},
   "outputs": [],
   "source": [
    "# Now make predictions using the test set\n",
    "y_pred = linear_model.predict(X_test)\n",
    "# we took a log of the sale price in the pre processing, so we need to exponentiate y_pred and y to get the true sale prices\n",
    "y_pred_exp = np.expm1(y_pred)"
   ]
  },
  {
   "cell_type": "code",
   "execution_count": 22,
   "metadata": {},
   "outputs": [],
   "source": [
    "def print_predictions(filename,header,ids,y_pred):\n",
    "    f = open(filename,'w')\n",
    "    numRows = len(ids)\n",
    "    f.write(header)\n",
    "    for i in range(numRows):\n",
    "        idNum = ids[i]\n",
    "        y = y_pred[i]\n",
    "        f.write(\"{},{}\\n\".format(idNum,y))\n",
    "    f.close()"
   ]
  },
  {
   "cell_type": "code",
   "execution_count": 31,
   "metadata": {},
   "outputs": [],
   "source": [
    "ids = test['Id']\n",
    "print_predictions(\"linear_regression_prediction.csv\",'Id,SalePrice\\n',ids,y_pred_exp)"
   ]
  },
  {
   "cell_type": "code",
   "execution_count": 22,
   "metadata": {},
   "outputs": [
    {
     "name": "stdout",
     "output_type": "stream",
     "text": [
      "0.09163768908817964\n"
     ]
    }
   ],
   "source": [
    "y_pred = linear_model.predict(X_train)\n",
    "rmse_log = rms(y_pred,y_train)\n",
    "print(rmse_log)"
   ]
  },
  {
   "cell_type": "markdown",
   "metadata": {},
   "source": [
    "This submission had an rmse on the logs of the sale prices of .5840. For comparison, the rms on the log of the training data was .0916."
   ]
  },
  {
   "cell_type": "markdown",
   "metadata": {},
   "source": [
    "![title](linear_submission.png)"
   ]
  },
  {
   "cell_type": "markdown",
   "metadata": {},
   "source": [
    "3. Fit a ridge regression (i.e. using l − 2 regularization) using α = 0.1. Make a submission of\n",
    "this prediction. Again, report train error, test error and your score/position on Kaggle LB."
   ]
  },
  {
   "cell_type": "code",
   "execution_count": 20,
   "metadata": {},
   "outputs": [
    {
     "name": "stdout",
     "output_type": "stream",
     "text": [
      "using alpha = 0.1, Ridge regression had an rmse of 17965.974938885876\n"
     ]
    }
   ],
   "source": [
    "alpha = .1\n",
    "ridge_model = Ridge(alpha=alpha)\n",
    "y = train.SalePrice\n",
    "# fit the model then get the y predicted\n",
    "ridge_model.fit(X_train,y)\n",
    "y_pred = ridge_model.predict(X_train)\n",
    "# we took a log of the sale price in the pre processing, so we need to exponentiate y_pred and y to get the true sale prices\n",
    "y_pred_exp = np.expm1(y_pred)\n",
    "y_exp = np.expm1(y)\n",
    "rmse_ridge = rms(y_pred_exp,y_exp)\n",
    "print(\"using alpha = 0.1, Ridge regression had an rmse of {}\".format(rmse_ridge))"
   ]
  },
  {
   "cell_type": "markdown",
   "metadata": {},
   "source": [
    "The ridge model gives a  rmse in the Sale price of approximately 17965.97  when $\\alpha=.1$"
   ]
  },
  {
   "cell_type": "code",
   "execution_count": 27,
   "metadata": {},
   "outputs": [],
   "source": [
    "ids = test['Id']\n",
    "print_predictions(\"ridge_prediction_alpha1.csv\",'Id,SalePrice\\n',ids,y_pred_exp)"
   ]
  },
  {
   "cell_type": "markdown",
   "metadata": {},
   "source": [
    "![title](rr_alpha_01.png)"
   ]
  },
  {
   "cell_type": "markdown",
   "metadata": {},
   "source": [
    "This submission had an rmse on the logs of the sale prices of .5695. Better than linear regression"
   ]
  },
  {
   "cell_type": "markdown",
   "metadata": {},
   "source": [
    "4. Train a ridge regression and a lasso regression model. Optimize the alphas using cross validation. What is the best score you can get from a single ridge regression model and from a\n",
    "single lasso model ? Report also the best hyperparameter α that you find."
   ]
  },
  {
   "cell_type": "markdown",
   "metadata": {},
   "source": [
    "##### Ridge regresion"
   ]
  },
  {
   "cell_type": "code",
   "execution_count": 33,
   "metadata": {},
   "outputs": [],
   "source": [
    "n_alphas = 200\n",
    "alphas = np.logspace(-5, 3, n_alphas).tolist()\n",
    "cv_ridge_rmse = [rmse_cv(Ridge(alpha = alpha),X_train,y).mean() \n",
    "            for alpha in alphas]"
   ]
  },
  {
   "cell_type": "code",
   "execution_count": 34,
   "metadata": {},
   "outputs": [
    {
     "data": {
      "text/plain": [
       "Text(0, 0.5, 'RMSE')"
      ]
     },
     "execution_count": 34,
     "metadata": {},
     "output_type": "execute_result"
    },
    {
     "data": {
      "image/png": "[encoded data removed]",
      "text/plain": [
       "<Figure size 864x432 with 1 Axes>"
      ]
     },
     "metadata": {
      "image/png": {
       "height": 386,
       "width": 742
      },
      "needs_background": "light"
     },
     "output_type": "display_data"
    }
   ],
   "source": [
    "cv_ridge_rmse = pd.Series(cv_ridge_rmse, index = alphas)\n",
    "cv_ridge_rmse.plot(title = \"Cross Validation Error for Ridge Regression\")\n",
    "plt.xlabel(\"alpha value\")\n",
    "plt.xlim(0,100)\n",
    "plt.ylabel(\"RMSE\")"
   ]
  },
  {
   "cell_type": "code",
   "execution_count": 35,
   "metadata": {},
   "outputs": [
    {
     "name": "stdout",
     "output_type": "stream",
     "text": [
      "The lowest cross validation RMSE for Ridge Regression is 0.12733847319204644 when alpha=9.771241535346501\n"
     ]
    }
   ],
   "source": [
    "min_rmse_ridge = cv_ridge_rmse.min()\n",
    "best_alpha_ridge = cv_ridge_rmse[cv_ridge_rmse==min_rmse_ridge].index[0]\n",
    "print(\"The lowest cross validation RMSE for Ridge Regression is {} when alpha={}\".format(min_rmse_ridge,best_alpha_ridge))"
   ]
  },
  {
   "cell_type": "markdown",
   "metadata": {},
   "source": [
    "### Lasso"
   ]
  },
  {
   "cell_type": "code",
   "execution_count": 38,
   "metadata": {},
   "outputs": [
    {
     "data": {
      "text/plain": [
       "(-0.5, 0.5)"
      ]
     },
     "execution_count": 38,
     "metadata": {},
     "output_type": "execute_result"
    },
    {
     "data": {
      "image/png": "[encoded data removed]",
      "text/plain": [
       "<Figure size 864x432 with 1 Axes>"
      ]
     },
     "metadata": {
      "image/png": {
       "height": 386,
       "width": 726
      },
      "needs_background": "light"
     },
     "output_type": "display_data"
    }
   ],
   "source": [
    "from sklearn.linear_model import Ridge, RidgeCV, ElasticNet, Lasso,LassoCV, LassoLarsCV\n",
    "# the alphas in lasso are inverted from ridge\n",
    "inv_alphas = np.ones(len(alphas)) /np.array(alphas)\n",
    "cv_lasso_rmse = [rmse_cv(Lasso(alpha = alpha),X_train,y).mean() \n",
    "            for alpha in inv_alphas]\n",
    "cv_lasso_rmse = pd.Series(cv_lasso_rmse, index = inv_alphas)\n",
    "cv_lasso_rmse.plot(title = \"Cross Validation Error For Lasso\")\n",
    "plt.xlabel(\"alpha value\")\n",
    "plt.ylabel(\"RMSE\")\n",
    "plt.xlim(-.5,.5)"
   ]
  },
  {
   "cell_type": "code",
   "execution_count": 40,
   "metadata": {},
   "outputs": [
    {
     "name": "stdout",
     "output_type": "stream",
     "text": [
      "The lowest cross validation RMSE for Ridge Regression is 0.12419498942266953 when alpha=0.001\n"
     ]
    }
   ],
   "source": [
    "min_rmse_lasso = cv_lasso_rmse.min()\n",
    "best_alpha_lasso = cv_lasso_rmse[cv_lasso_rmse==min_rmse_lasso].index[0]\n",
    "print(\"The lowest cross validation RMSE for Ridge Regression is {} when alpha={}\".format(min_rmse_lasso,best_alpha_lasso))"
   ]
  },
  {
   "cell_type": "code",
   "execution_count": 41,
   "metadata": {
    "scrolled": true
   },
   "outputs": [],
   "source": [
    "# Create predictions with the best alpha scores for lasso and ridge\n",
    "best_ridge = Ridge(alpha=best_alpha_ridge).fit(X_train,y)\n",
    "best_lasso = Lasso(alpha=best_alpha_lasso).fit(X_train,y)"
   ]
  },
  {
   "cell_type": "code",
   "execution_count": 42,
   "metadata": {},
   "outputs": [],
   "source": [
    "# exponentiate the prediction since we took the log of the sale price in the training data\n",
    "y_pred_ridge = np.expm1(best_ridge.predict(X_test))\n",
    "y_pred_lasso = np.expm1(best_lasso.predict(X_test))\n",
    "ids = test['Id']"
   ]
  },
  {
   "cell_type": "code",
   "execution_count": 43,
   "metadata": {},
   "outputs": [],
   "source": [
    "print_predictions(\"ridge_prediction.csv\",'Id,SalePrice\\n',ids,y_pred_ridge)\n",
    "print_predictions(\"lasso_prediction.csv\",'Id,SalePrice\\n',ids,y_pred_lasso)"
   ]
  },
  {
   "cell_type": "code",
   "execution_count": null,
   "metadata": {},
   "outputs": [],
   "source": []
  }
 ],
 "metadata": {
  "kernelspec": {
   "display_name": "Python 3",
   "language": "python",
   "name": "python3"
  },
  "language_info": {
   "codemirror_mode": {
    "name": "ipython",
    "version": 3
   },
   "file_extension": ".py",
   "mimetype": "text/x-python",
   "name": "python",
   "nbconvert_exporter": "python",
   "pygments_lexer": "ipython3",
   "version": "3.6.8"
  }
 },
 "nbformat": 4,
 "nbformat_minor": 2
}
